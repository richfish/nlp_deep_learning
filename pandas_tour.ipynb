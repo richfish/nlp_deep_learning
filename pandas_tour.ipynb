{
 "cells": [
  {
   "cell_type": "code",
   "execution_count": 1,
   "metadata": {
    "collapsed": true
   },
   "outputs": [],
   "source": [
    "import pandas as pd\n",
    "import re\n",
    "pd.set_option('max_colwidth', 50)\n"
   ]
  },
  {
   "cell_type": "markdown",
   "metadata": {},
   "source": [
    "The Health Department has developed an inspection report and scoring system. \n",
    "After conducting an inspection of the facility, the Health Inspector calculates a score based on the violations observed. \n",
    "Violations can fall into:\n",
    "- **high risk category**: records specific violations that directly relate to the transmission of food borne illnesses,the adulteration of food products and the contamination of food-contact surfaces.\n",
    "- **moderate risk category**: records specific violations that are of a moderate risk to the public health and safety.\n",
    "- **low risk category**: records violations that are low risk or have no immediate risk to the public health and safety."
   ]
  },
  {
   "cell_type": "code",
   "execution_count": 2,
   "metadata": {
    "collapsed": false
   },
   "outputs": [
    {
     "name": "stdout",
     "output_type": "stream",
     "text": [
      "duplicates: 244\n",
      "Businesses with no inspection data: 1572\n",
      "Inspections for businesses not listed in business table: 28\n",
      "Violations for businesses not listing in business table: 19\n",
      "Unique forms of 'starbucks' name in data: 32\n"
     ]
    }
   ],
   "source": [
    "businesses = pd.read_csv('data/businesses_plus.csv', parse_dates=True, dtype={'phone_number': str})\n",
    "inspections = pd.read_csv('./data/inspections_plus.csv', parse_dates=True)\n",
    "violations = pd.read_csv('./data/violations_plus.csv', parse_dates=True)\n",
    "\n",
    "# Quirks with data\n",
    "\n",
    "# there are small amounts of duplicates in the tables, I will remove.\n",
    "dups_before_drop = len(businesses) + len(inspections) + len(violations)\n",
    "businesses = businesses.drop_duplicates(subset='business_id')\n",
    "inspections = inspections.drop_duplicates()\n",
    "violations = violations.drop_duplicates()\n",
    "current_len = len(businesses) + len(inspections) + len(violations)\n",
    "print(\"duplicates: {}\".format(dups_before_drop - current_len))\n",
    "\n",
    "# there are ~1600 businesses that don't have inspections/violation data\n",
    "# reassign/ remove --> businesses_no_dup[~businesses_no_dup.business_id.isin(inspections_no_dup.business_id)]\n",
    "diff = len(businesses) - inspections.business_id.nunique()\n",
    "print(\"Businesses with no inspection data: {}\".format(diff))\n",
    "\n",
    "# there are some inspections that refer to businesses not in the businesses table\n",
    "diff = list(set(inspections.business_id).difference(set(businesses.business_id)))\n",
    "print(\"Inspections for businesses not listed in business table: {}\".format(len(diff)))\n",
    "\n",
    "# there are some violations that refer to businesses not in the business table either\n",
    "diff = list(set(violations.business_id).difference(set(businesses.business_id)))\n",
    "print(\"Violations for businesses not listing in business table: {}\".format(len(diff)))\n",
    "\n",
    "#there are ~900 inspections that do not have violations\n",
    "\n",
    "#e.g. Starbucks is counted in many different ways - standardize names\n",
    "# fix a few of the most egregious ones\n",
    "businesses.name.fillna('NA', inplace=True)\n",
    "businesses.name = businesses.name.apply(lambda x: str(x).lower())\n",
    "print(\"Unique forms of 'starbucks' name in data: {}\".format(businesses.name[businesses.name.str.contains('starbuck')].nunique()))\n",
    "\n",
    "patternr = \"starbuck|peet|subway|mcdon|philz|phil'z\"\n",
    "patternd = {\n",
    "    \"starbuck\": \"starbucks\",\n",
    "    \"peet\": \"peet's coffee\", \n",
    "    \"subway\": \"subway\", \n",
    "    \"mcdon\": \"mcdonald's\",\n",
    "    \"philz\": \"philz coffee\",\n",
    "    \"phil'z\": \"philz coffee\"\n",
    "}\n",
    "biz_to_change = businesses[businesses.name.str.contains(patternr)].index\n",
    "biz_name = businesses[businesses.index.isin(biz_to_change)].name\n",
    "bizs = zip(biz_to_change, biz_name)\n",
    "for index, biz in bizs:\n",
    "    match = re.match(patternr, biz)\n",
    "    if match:\n",
    "        businesses.loc[index, 'name'] = patternd[match.group(0)]\n"
   ]
  },
  {
   "cell_type": "code",
   "execution_count": null,
   "metadata": {
    "collapsed": true
   },
   "outputs": [],
   "source": []
  },
  {
   "cell_type": "code",
   "execution_count": 3,
   "metadata": {
    "collapsed": false
   },
   "outputs": [
    {
     "name": "stdout",
     "output_type": "stream",
     "text": [
      "restaurant_scores 1: (43486, 22)\n",
      "\n",
      " ** SPECIAL CONSIDERATION FOR JOIN DOUBLE COUNTING **\n",
      "\n",
      "restaurant_scores better: (39449, 23)\n"
     ]
    }
   ],
   "source": [
    "# 1 Combine the three dataframes into one data frame called restaurant_scores\n",
    "# Hint: http://pandas.pydata.org/pandas-docs/stable/merging.html\n",
    "\n",
    "# NOTE \n",
    "# SQL duplication issue (re-using same keys accross all 3 tables/ frames)\n",
    "# Will need better solution than simple merging such as:\n",
    "\n",
    "restaurant_scores = businesses.merge(inspections, on='business_id') \\\n",
    ".merge(violations, on=['business_id', 'date'])\n",
    "\n",
    "print(\"restaurant_scores 1: {}\".format(restaurant_scores.shape))\n",
    "print(\"\\n ** SPECIAL CONSIDERATION FOR JOIN DOUBLE COUNTING **\\n\")\n",
    "\n",
    "# Let's make a new key shared by inspections & violations, based on date - business_id relationship:\n",
    "\n",
    "new_id_col = zip(inspections.business_id, inspections.date)\n",
    "new_id_col = [str(x) + '-' + str(y) for x,y in new_id_col]                  \n",
    "inspections['inspection_id'] = new_id_col\n",
    "\n",
    "#same in violations\n",
    "\n",
    "new_id_col = zip(violations.business_id, violations.date)\n",
    "new_id_col = [str(x) + '-' + str(y) for x,y in new_id_col]  \n",
    "violations['inspection_id'] = new_id_col\n",
    "violations = violations.drop('business_id', 1) #\n",
    "violations = violations.drop('date', 1)\n",
    "\n",
    "# We need to account for multi counting due to the join .e.g my new inspection_id == '72004-20130913' \n",
    "# shows how all entries in violates for same inspection with multiple:\n",
    "\n",
    "rests = businesses.merge(inspections, on='business_id').merge(violations, on='inspection_id')\n",
    "len(rests[rests.inspection_id == '3016-20131218']) # 33\n",
    "len(inspections[inspections.inspection_id == '3016-20131218']) # 3\n",
    "len(violations[violations.inspection_id == '3016-20131218']) # 11\n",
    "# only should could 11 violations here not 33... \n",
    "\n",
    "# drop violations dups\n",
    "rests = rests.drop_duplicates(subset=['inspection_id', 'ViolationTypeID', 'risk_category', 'description']) #violations identifers\n",
    "restaurant_scores = rests\n",
    "\n",
    "print(\"restaurant_scores better: {}\".format(restaurant_scores.shape))            \n",
    "            \n",
    "            \n",
    "\n"
   ]
  },
  {
   "cell_type": "code",
   "execution_count": null,
   "metadata": {
    "collapsed": true
   },
   "outputs": [],
   "source": []
  },
  {
   "cell_type": "code",
   "execution_count": 6,
   "metadata": {
    "collapsed": false
   },
   "outputs": [
    {
     "data": {
      "text/plain": [
       "starbucks                    253\n",
       "subway                       204\n",
       "peet's coffee                179\n",
       "mcdonald's                    65\n",
       "lee's deli                    63\n",
       "cafe bakery                   59\n",
       "lers ros thai noodle          59\n",
       "specialty's cafe & bakery     59\n",
       "kentucky fried chicken        59\n",
       "happy donut                   55\n",
       "Name: name, dtype: int64"
      ]
     },
     "execution_count": 6,
     "metadata": {},
     "output_type": "execute_result"
    }
   ],
   "source": [
    "# 2 Which ten business have had the most inspections?\n",
    "\n",
    "#Use name, not business_id because multiple locations\n",
    "#Don't use full restaurants frame or will count violations\n",
    "\n",
    "#e.g. Starbucks is counted in many different ways - standardize names\n",
    "# do a few of the major ones\n",
    "\n",
    "merged = businesses.merge(inspections)\n",
    "merged.name.value_counts()\n",
    "restaurant_scores.name.value_counts().head(10)\n"
   ]
  },
  {
   "cell_type": "code",
   "execution_count": null,
   "metadata": {
    "collapsed": true
   },
   "outputs": [],
   "source": []
  },
  {
   "cell_type": "code",
   "execution_count": 5,
   "metadata": {
    "collapsed": false
   },
   "outputs": [
    {
     "data": {
      "text/plain": [
       "Routine - Unscheduled                15481\n",
       "Reinspection/Followup                 5327\n",
       "New Ownership                         1861\n",
       "Complaint                             1594\n",
       "New Construction                      1581\n",
       "Non-inspection site visit              827\n",
       "Complaint Reinspection/Followup        161\n",
       "Structural Inspection                  120\n",
       "Foodborne Illness Investigation         98\n",
       "Routine - Scheduled                     63\n",
       "Administrative or Document Review        4\n",
       "Special Event                            2\n",
       "Multi-agency Investigation               2\n",
       "Name: type, dtype: int64"
      ]
     },
     "execution_count": 5,
     "metadata": {},
     "output_type": "execute_result"
    }
   ],
   "source": [
    "# 3 Group and count the inspections by type\n",
    "\n",
    "inspections.type.value_counts()\n"
   ]
  },
  {
   "cell_type": "code",
   "execution_count": null,
   "metadata": {
    "collapsed": true
   },
   "outputs": [],
   "source": []
  },
  {
   "cell_type": "code",
   "execution_count": 81,
   "metadata": {
    "collapsed": false
   },
   "outputs": [
    {
     "data": {
      "image/png": "[encoded data removed]",
      "text/plain": [
       "<matplotlib.figure.Figure at 0x123f457d0>"
      ]
     },
     "metadata": {},
     "output_type": "display_data"
    }
   ],
   "source": [
    "# 4 Create a plot that shows number of inspections per month\n",
    "# Bonus for creating a heatmap\n",
    "# http://stanford.edu/~mwaskom/software/seaborn/generated/seaborn.heatmap.html?highlight=heatmap\n",
    "import numpy as np\n",
    "import seaborn as sns\n",
    "import matplotlib.pyplot as plt\n",
    "import dateutil\n",
    "%matplotlib inline\n",
    "\n",
    "inspections2 = inspections #could get messy\n",
    "inspections['month'] = [int(str(x)[4:6]) for x in inspections['date']]\n",
    "inspections2['year'] = [int(str(x)[:4]) for x in inspections2['date']]\n",
    "\n",
    "def get_freq_count_at_year_month(month, year):\n",
    "    return inspections2[(inspections2.month == month) & (inspections2.year == year)].count().values[0]\n",
    "\n",
    "#new DF to represent counts in given year-month\n",
    "counts_df = pd.DataFrame(np.zeros((48,3), dtype=np.int), columns=['month', 'year', 'freq_count'])\n",
    "\n",
    "months = range(1,13)*4\n",
    "years = [2013]*12 + [2014]*12 + [2015]*12 + [2016]*12\n",
    "for i in range(0,48):\n",
    "    month = months[i]\n",
    "    year = years[i]\n",
    "    freq_count = get_freq_count_at_year_month(month, year)\n",
    "    counts_df.loc[i] = [month, year, freq_count]    \n",
    "\n",
    "counts_df = counts_df.pivot('month', 'year', 'freq_count')\n",
    "\n",
    "plt = sns.heatmap(counts_df)\n",
    "plt.set_title('Frequency of inspections', fontsize=16)\n",
    "plt.set_xlabel(\"Years\")\n",
    "plt.set_ylabel(\"Months\")\n",
    "plt.figure.set_size_inches(8,6)\n",
    "\n",
    "# It's alive!"
   ]
  },
  {
   "cell_type": "code",
   "execution_count": 77,
   "metadata": {
    "collapsed": false
   },
   "outputs": [
    {
     "data": {
      "text/plain": [
       "<matplotlib.text.Text at 0x118276c10>"
      ]
     },
     "execution_count": 77,
     "metadata": {},
     "output_type": "execute_result"
    },
    {
     "data": {
      "image/png": "[encoded data removed]",
      "text/plain": [
       "<matplotlib.figure.Figure at 0x116634d50>"
      ]
     },
     "metadata": {},
     "output_type": "display_data"
    }
   ],
   "source": [
    "#matplotlib\n",
    "inspections.groupby('month').size().plot(kind=\"bar\", title=\"Inspections per month\") #groupby & size b/c 1-12 order\n",
    "plt.xlabel('Months')\n",
    "plt.ylabel('Inspection counts')\n",
    "\n"
   ]
  },
  {
   "cell_type": "code",
   "execution_count": null,
   "metadata": {
    "collapsed": true
   },
   "outputs": [],
   "source": []
  },
  {
   "cell_type": "code",
   "execution_count": 181,
   "metadata": {
    "collapsed": false
   },
   "outputs": [
    {
     "data": {
      "text/plain": [
       "postal_code\n",
       "94133    529\n",
       "94110    494\n",
       "94103    494\n",
       "94109    396\n",
       "94102    388\n",
       "dtype: int64"
      ]
     },
     "execution_count": 181,
     "metadata": {},
     "output_type": "execute_result"
    }
   ],
   "source": [
    "# 5 Which zip code contains the most high risk violations?\n",
    "\n",
    "\n",
    "high_risk_zips = restaurant_scores[restaurant_scores.risk_category == 'High Risk'] \\\n",
    "  .groupby('postal_code').size()\n",
    "    \n",
    "high_risk_zips.sort_values(ascending=False)[:5]\n"
   ]
  },
  {
   "cell_type": "code",
   "execution_count": null,
   "metadata": {
    "collapsed": true
   },
   "outputs": [],
   "source": []
  },
  {
   "cell_type": "code",
   "execution_count": 203,
   "metadata": {
    "collapsed": false
   },
   "outputs": [
    {
     "name": "stdout",
     "output_type": "stream",
     "text": [
      "Chance high risk: 13.97%, chance low risk: 50.44%\n"
     ]
    }
   ],
   "source": [
    "# 6 If inspection is prompted by a change in restaurant ownership, \n",
    "# is the inspection more likely to be categorized as higher or lower risk?\n",
    "\n",
    "risk_dist = restaurant_scores[restaurant_scores.type == 'New Ownership'].risk_category.value_counts(normalize=True)\n",
    "\n",
    "print(\"Chance high risk: {:.2f}%, chance low risk: {:.2f}%\".format(risk_dist[2]*100, risk_dist[0]*100))\n"
   ]
  },
  {
   "cell_type": "code",
   "execution_count": null,
   "metadata": {
    "collapsed": true
   },
   "outputs": [],
   "source": []
  },
  {
   "cell_type": "code",
   "execution_count": 213,
   "metadata": {
    "collapsed": false
   },
   "outputs": [
    {
     "data": {
      "text/plain": [
       "Unclean or degraded floors walls or ceilings    3391\n",
       "Name: description, dtype: int64"
      ]
     },
     "execution_count": 213,
     "metadata": {},
     "output_type": "execute_result"
    }
   ],
   "source": [
    "# 7 Examining the descriptions, what is the most common violation?\n",
    "\n",
    "violations.description.value_counts()[:1]"
   ]
  },
  {
   "cell_type": "code",
   "execution_count": null,
   "metadata": {
    "collapsed": true
   },
   "outputs": [],
   "source": []
  },
  {
   "cell_type": "code",
   "execution_count": 266,
   "metadata": {
    "collapsed": false
   },
   "outputs": [
    {
     "data": {
      "text/plain": [
       "<matplotlib.axes._subplots.AxesSubplot at 0x12dc4e290>"
      ]
     },
     "execution_count": 266,
     "metadata": {},
     "output_type": "execute_result"
    },
    {
     "data": {
      "image/png": "[encoded data removed]",
      "text/plain": [
       "<matplotlib.figure.Figure at 0x12f4da090>"
      ]
     },
     "metadata": {},
     "output_type": "display_data"
    }
   ],
   "source": [
    "# 8 Create a hist of the scores with 10 bins\n",
    "\n",
    "inspections.Score.hist(bins=10)\n"
   ]
  },
  {
   "cell_type": "code",
   "execution_count": null,
   "metadata": {
    "collapsed": true
   },
   "outputs": [],
   "source": []
  },
  {
   "cell_type": "code",
   "execution_count": 1004,
   "metadata": {
    "collapsed": false
   },
   "outputs": [
    {
     "name": "stderr",
     "output_type": "stream",
     "text": [
      "/Users/richfisher/anaconda/lib/python2.7/site-packages/ipykernel/__main__.py:63: SettingWithCopyWarning: \n",
      "A value is trying to be set on a copy of a slice from a DataFrame.\n",
      "Try using .loc[row_indexer,col_indexer] = value instead\n",
      "\n",
      "See the caveats in the documentation: http://pandas.pydata.org/pandas-docs/stable/indexing.html#indexing-view-versus-copy\n"
     ]
    },
    {
     "name": "stdout",
     "output_type": "stream",
     "text": [
      "\n",
      " Latitude - Longitude predictive % without much KNN tuning: \n",
      "56.17%\n",
      "\n"
     ]
    },
    {
     "data": {
      "image/png": "[encoded data removed]",
      "text/plain": [
       "<matplotlib.figure.Figure at 0x186273a10>"
      ]
     },
     "metadata": {},
     "output_type": "display_data"
    }
   ],
   "source": [
    "# 9 Can you predict risk category based on the other features in this dataset?\n",
    "rs = restaurant_scores\n",
    "\n",
    "# For z-score purposes, risk category distribution of population \n",
    "violations.risk_category.value_counts(normalize=True)*100\n",
    "# Low Risk - 52.2%\n",
    "# Moderate Risk - 33.9%\n",
    "# High Risk - 13.9%\n",
    "\n",
    "def get_risk_percentage_arr(risk_counts_2d_arr):\n",
    "    risk_percentage_arr = []\n",
    "    for counts in risk_counts_2d_arr:\n",
    "        total = float(sum(counts)) \n",
    "        for x in counts:\n",
    "            risk_percentage_arr.append(float(x)/total *100)\n",
    "    return risk_percentage_arr       \n",
    "\n",
    "# Could predict based on top owners in city\n",
    "# Looking at top 10\n",
    "rs[rs.name.isin(rs.name.value_counts()[:10].index)].groupby(['name', 'risk_category']).size()\n",
    "# e.g. Starbucks has a 69.2% (175/253 low risk) of getting low risk vs. the 52.2% avg\n",
    "# Apparently being a top franchise like Starbucks, Subway, or Peets puts you at *lower* risk\n",
    "\n",
    "\n",
    "############\n",
    "\n",
    "\n",
    "# Could predict based on dates... maybe regulations or grading standards changed.\n",
    "rs['year'] = [str(x)[0:4] for x in rs.date]\n",
    "values = rs.groupby(['year', 'risk_category']).size().values\n",
    "yr_2013, yr_2014, yr_2015, yr_2016 = values[:3], values[3:6], values[6:9], values[9:]\n",
    "\n",
    "risk_cat_dists_by_year = get_risk_percentage_arr([yr_2013, yr_2014, yr_2015, yr_2016])\n",
    "years = [2013]*3 + [2014]*3 + [2015]*3 + [2016]*3\n",
    "cats = ['high risk', 'low risk', 'moderate risk']*4\n",
    "risk_by_year = zip(years, cats, risk_cat_dists_by_year)\n",
    "\n",
    "risks_df = pd.DataFrame(risk_by_year, columns=['year', 'violation_cat', 'percent_violations_issued'])\n",
    "risks_df.head(3)\n",
    "plt = sns.barplot(data=risks_df, x=\"year\", y=\"percent_violations_issued\", hue='violation_cat')\n",
    "plt.set_title('Violation percentages per type per year', fontsize=16)\n",
    "plt.set_xlabel(\"Years\")\n",
    "plt.set_ylabel(\"Percentage\")\n",
    "plt.figure.set_size_inches(8,6)\n",
    "\n",
    "# not a good predictor - pretty consistent accross years! \n",
    "\n",
    "\n",
    "############\n",
    "\n",
    "\n",
    "# Could look at lat-long areas/ geo-fencing\n",
    "# Look at the 'scene', like Polk Gultch vs. Hayes Valley  \n",
    "# This could be investigated with K Nearest Neighbors \n",
    "\n",
    "from sklearn.neighbors import KNeighborsClassifier\n",
    "knn = KNeighborsClassifier(n_neighbors=10) \n",
    "\n",
    "rs = rs.dropna(subset=['risk_category', 'latitude', 'longitude'])\n",
    "int_mapping = {'High Risk': 2, 'Moderate Risk': 1, 'Low Risk': 0}\n",
    "\n",
    "rs['risk_category_int'] = [int_mapping[x] for x in rs.risk_category]\n",
    "X = rs[['latitude', 'longitude']]\n",
    "y = rs.risk_category_int\n",
    "\n",
    "knn.fit(X, y)        \n",
    "prediction = knn.score(X, y)\n",
    "print(\"\\n Latitude - Longitude predictive % without much KNN tuning: \\n{:.2f}%\\n\".format(prediction*100))\n",
    "\n",
    "#at 56% without much tuning, the lat-long is a slight improvement over blindly picking 'low risk' every time"
   ]
  },
  {
   "cell_type": "code",
   "execution_count": null,
   "metadata": {
    "collapsed": true
   },
   "outputs": [],
   "source": []
  },
  {
   "cell_type": "code",
   "execution_count": 4,
   "metadata": {
    "collapsed": false
   },
   "outputs": [
    {
     "data": {
      "text/plain": [
       "[u'{\"pagination\": {}, \"meta\": {\"code\": 200}, \"data\": []}',\n",
       " u'{\"pagination\": {}, \"meta\": {\"code\": 200}, \"data\": []}',\n",
       " u'{\"pagination\": {}, \"meta\": {\"code\": 200}, \"data\": []}',\n",
       " u'{\"pagination\": {}, \"meta\": {\"code\": 200}, \"data\": []}',\n",
       " u'{\"pagination\": {}, \"meta\": {\"code\": 200}, \"data\": []}',\n",
       " u'{\"pagination\": {}, \"meta\": {\"code\": 200}, \"data\": []}',\n",
       " u'{\"pagination\": {}, \"meta\": {\"code\": 200}, \"data\": []}',\n",
       " u'{\"pagination\": {}, \"meta\": {\"code\": 200}, \"data\": []}',\n",
       " u'{\"pagination\": {}, \"meta\": {\"code\": 200}, \"data\": []}',\n",
       " u'{\"pagination\": {}, \"meta\": {\"code\": 200}, \"data\": []}',\n",
       " u'{\"pagination\": {}, \"meta\": {\"code\": 200}, \"data\": []}',\n",
       " u'{\"pagination\": {}, \"meta\": {\"code\": 200}, \"data\": []}',\n",
       " u'{\"pagination\": {}, \"meta\": {\"code\": 200}, \"data\": []}',\n",
       " u'{\"pagination\": {}, \"meta\": {\"code\": 200}, \"data\": []}',\n",
       " u'{\"pagination\": {}, \"meta\": {\"code\": 200}, \"data\": []}',\n",
       " u'{\"pagination\": {}, \"meta\": {\"code\": 200}, \"data\": []}',\n",
       " u'{\"pagination\": {}, \"meta\": {\"code\": 200}, \"data\": []}',\n",
       " u'{\"pagination\": {}, \"meta\": {\"code\": 200}, \"data\": []}',\n",
       " u'{\"pagination\": {}, \"meta\": {\"code\": 200}, \"data\": []}',\n",
       " u'{\"pagination\": {}, \"meta\": {\"code\": 200}, \"data\": []}']"
      ]
     },
     "execution_count": 4,
     "metadata": {},
     "output_type": "execute_result"
    }
   ],
   "source": [
    "# 10 Extra Credit:\n",
    "# Use Instagram location API to find pictures taken at the lat, long of the most High Risk restaurant\n",
    "# https://www.instagram.com/developer/endpoints/locations/\n",
    "\n",
    "# NOTE - pretty sure in sandbox mode there are now limitations that make it hard to get media without \n",
    "# registering those users with app. Can get metadata but not images.\n",
    "\n",
    "import requests\n",
    "import json\n",
    "\n",
    "rs = restaurant_scores\n",
    "rs[rs.risk_category == 'High Risk'].groupby([\"business_id\", 'risk_category']).size() \\\n",
    "  .sort_values(ascending=False)[:1]\n",
    "latitude = rs[rs.business_id == 33446][:1].latitude.values[0]\n",
    "longitude = rs[rs.business_id == 33446][:1].longitude.values[0]\n",
    "\n",
    "#https://api.instagram.com/oauth/authorize/?client_id=xXxXx&redirect_uri=http://thewebapp.dev/\n",
    "#  &response_type=token&scope=public_content\n",
    "\n",
    "#curl -F 'client_id=XXX' -F 'client_secret=XXX' -F 'grant_type=authorization_code' \n",
    "#  -F 'redirect_uri=http://google.com' -F 'code=87b63f15742b4e57a013679a85404677' \n",
    "#  https://api.instagram.com/oauth/access_token\n",
    "\n",
    "access_token = \"3798722982.726f657.bec6e4af3b1a421c8f13150eac2715f3\"\n",
    "\n",
    "locations_base = \"https://api.instagram.com/v1/locations/\"\n",
    "location_search_url = \"search?\"\n",
    "lat_p = \"&lat=\" + str(latitude)\n",
    "long_p = \"&lng=\" + str(longitude)\n",
    "access_p = \"&access_token=\" + access_token\n",
    "\n",
    "response = requests.get(locations_base + location_search_url + lat_p + long_p + access_p)\n",
    "json.loads(response.text)[\"data\"]\n",
    "location_ids = []\n",
    "for location in json.loads(response.text)[\"data\"]:\n",
    "    location_ids.append(location[\"id\"])\n",
    "#returns a bunch of IDs \n",
    "\n",
    "\n",
    "locations_recent_media = \"/media/recent?access_token=\" + access_token\n",
    "resps = []\n",
    "for id in location_ids:    \n",
    "    response = requests.get(locations_base + str(id) + locations_recent_media + \"&distance=5000\")\n",
    "    resps.append(response.text)\n",
    "resps\n",
    "# returns a bunch of {\"pagination\": {}, \"meta\": {\"code\": 200}, \"data\": []}\n",
    "# I believe this is because the sandbox mode of API is blocking actual media\n",
    "  # In Sandbox mode I'm pretty sure have to explicitly register the users whose media you want with your app\n",
    "\n",
    "\n"
   ]
  },
  {
   "cell_type": "code",
   "execution_count": null,
   "metadata": {
    "collapsed": true
   },
   "outputs": [],
   "source": [
    "media_search_base = \"https://api.instagram.com/v1/media/search"
   ]
  },
  {
   "cell_type": "code",
   "execution_count": null,
   "metadata": {
    "collapsed": true
   },
   "outputs": [],
   "source": []
  },
  {
   "cell_type": "code",
   "execution_count": null,
   "metadata": {
    "collapsed": true
   },
   "outputs": [],
   "source": []
  },
  {
   "cell_type": "code",
   "execution_count": null,
   "metadata": {
    "collapsed": true
   },
   "outputs": [],
   "source": []
  },
  {
   "cell_type": "code",
   "execution_count": null,
   "metadata": {
    "collapsed": true
   },
   "outputs": [],
   "source": []
  },
  {
   "cell_type": "code",
   "execution_count": null,
   "metadata": {
    "collapsed": true
   },
   "outputs": [],
   "source": []
  },
  {
   "cell_type": "code",
   "execution_count": null,
   "metadata": {
    "collapsed": true
   },
   "outputs": [],
   "source": [
    "############################\n",
    "### A Little More Morbid ###\n",
    "############################"
   ]
  },
  {
   "cell_type": "code",
   "execution_count": 788,
   "metadata": {
    "collapsed": false
   },
   "outputs": [
    {
     "data": {
      "text/html": [
       "<div>\n",
       "<table border=\"1\" class=\"dataframe\">\n",
       "  <thead>\n",
       "    <tr style=\"text-align: right;\">\n",
       "      <th></th>\n",
       "      <th>name</th>\n",
       "      <th>age</th>\n",
       "      <th>gender</th>\n",
       "      <th>raceethnicity</th>\n",
       "      <th>streetaddress</th>\n",
       "      <th>city</th>\n",
       "      <th>state</th>\n",
       "      <th>lawenforcementagency</th>\n",
       "      <th>cause</th>\n",
       "      <th>armed</th>\n",
       "      <th>county_income</th>\n",
       "      <th>date</th>\n",
       "    </tr>\n",
       "  </thead>\n",
       "  <tbody>\n",
       "    <tr>\n",
       "      <th>0</th>\n",
       "      <td>A'donte Washington</td>\n",
       "      <td>16</td>\n",
       "      <td>Male</td>\n",
       "      <td>Black</td>\n",
       "      <td>Clearview Ln</td>\n",
       "      <td>Millbrook</td>\n",
       "      <td>AL</td>\n",
       "      <td>Millbrook Police Department</td>\n",
       "      <td>Gunshot</td>\n",
       "      <td>No</td>\n",
       "      <td>54766</td>\n",
       "      <td>2015-02-23</td>\n",
       "    </tr>\n",
       "  </tbody>\n",
       "</table>\n",
       "</div>"
      ],
      "text/plain": [
       "                 name  age gender raceethnicity streetaddress       city  \\\n",
       "0  A'donte Washington   16   Male         Black  Clearview Ln  Millbrook   \n",
       "\n",
       "  state         lawenforcementagency    cause armed  county_income       date  \n",
       "0    AL  Millbrook Police Department  Gunshot    No          54766 2015-02-23  "
      ]
     },
     "execution_count": 788,
     "metadata": {},
     "output_type": "execute_result"
    }
   ],
   "source": [
    "killings = pd.read_csv('data/police-killings.csv')\n",
    "killings = killings.drop('Unnamed: 0', 1)\n",
    "\n",
    "killings['date'] = killings.month + '-' + killings.day.astype(str) + '-' + killings.year.astype(str)\n",
    "killings.date = pd.to_datetime(killings.date, format='%B-%d-%Y')\n",
    "killings = killings.drop(['month', 'day', 'year'],1)\n",
    "killings[:1]\n",
    "\n"
   ]
  },
  {
   "cell_type": "code",
   "execution_count": null,
   "metadata": {
    "collapsed": true
   },
   "outputs": [],
   "source": []
  },
  {
   "cell_type": "code",
   "execution_count": 767,
   "metadata": {
    "collapsed": false
   },
   "outputs": [
    {
     "data": {
      "text/html": [
       "<div>\n",
       "<table border=\"1\" class=\"dataframe\">\n",
       "  <thead>\n",
       "    <tr style=\"text-align: right;\">\n",
       "      <th></th>\n",
       "      <th>name</th>\n",
       "      <th>age</th>\n",
       "      <th>gender</th>\n",
       "      <th>race</th>\n",
       "      <th>streetaddress</th>\n",
       "      <th>city</th>\n",
       "      <th>state</th>\n",
       "      <th>agency</th>\n",
       "      <th>cause</th>\n",
       "      <th>armed</th>\n",
       "      <th>county_income</th>\n",
       "      <th>date</th>\n",
       "    </tr>\n",
       "  </thead>\n",
       "  <tbody>\n",
       "    <tr>\n",
       "      <th>0</th>\n",
       "      <td>A'donte Washington</td>\n",
       "      <td>16</td>\n",
       "      <td>Male</td>\n",
       "      <td>Black</td>\n",
       "      <td>Clearview Ln</td>\n",
       "      <td>Millbrook</td>\n",
       "      <td>AL</td>\n",
       "      <td>Millbrook Police Department</td>\n",
       "      <td>Gunshot</td>\n",
       "      <td>No</td>\n",
       "      <td>54766</td>\n",
       "      <td>2015-02-23</td>\n",
       "    </tr>\n",
       "  </tbody>\n",
       "</table>\n",
       "</div>"
      ],
      "text/plain": [
       "                 name  age gender   race streetaddress       city state  \\\n",
       "0  A'donte Washington   16   Male  Black  Clearview Ln  Millbrook    AL   \n",
       "\n",
       "                        agency    cause armed  county_income       date  \n",
       "0  Millbrook Police Department  Gunshot    No          54766 2015-02-23  "
      ]
     },
     "execution_count": 767,
     "metadata": {},
     "output_type": "execute_result"
    }
   ],
   "source": [
    "# 1. Make the following changed to column names:\n",
    "# lawenforcementagency -> agency\n",
    "# raceethnicity        -> race\n",
    "\n",
    "killings.rename(columns={\"lawenforcementagency\":\"agency\", \"raceethnicity\":\"race\"}, inplace=True)\n",
    "killings[:1]"
   ]
  },
  {
   "cell_type": "code",
   "execution_count": null,
   "metadata": {
    "collapsed": true
   },
   "outputs": [],
   "source": []
  },
  {
   "cell_type": "code",
   "execution_count": 768,
   "metadata": {
    "collapsed": false
   },
   "outputs": [
    {
     "data": {
      "text/plain": [
       "name             0\n",
       "age              0\n",
       "gender           0\n",
       "race             0\n",
       "streetaddress    4\n",
       "city             0\n",
       "state            0\n",
       "agency           0\n",
       "cause            0\n",
       "armed            0\n",
       "county_income    0\n",
       "date             0\n",
       "dtype: int64"
      ]
     },
     "execution_count": 768,
     "metadata": {},
     "output_type": "execute_result"
    }
   ],
   "source": [
    "# 2. Show the count of missing values in each column\n",
    "\n",
    "killings.isnull().sum()"
   ]
  },
  {
   "cell_type": "code",
   "execution_count": null,
   "metadata": {
    "collapsed": true
   },
   "outputs": [],
   "source": []
  },
  {
   "cell_type": "code",
   "execution_count": 769,
   "metadata": {
    "collapsed": false
   },
   "outputs": [
    {
     "data": {
      "text/plain": [
       "False"
      ]
     },
     "execution_count": 769,
     "metadata": {},
     "output_type": "execute_result"
    }
   ],
   "source": [
    "# 3. replace each null value in the dataframe with the string \"Unknown\"\n",
    "\n",
    "killings[killings.isnull().any(axis=1)]\n",
    "killings = killings.fillna(\"Unknown\")\n",
    "killings.isnull().any().any()"
   ]
  },
  {
   "cell_type": "code",
   "execution_count": null,
   "metadata": {
    "collapsed": true
   },
   "outputs": [],
   "source": []
  },
  {
   "cell_type": "code",
   "execution_count": 770,
   "metadata": {
    "collapsed": false
   },
   "outputs": [
    {
     "data": {
      "text/plain": [
       "464"
      ]
     },
     "execution_count": 770,
     "metadata": {},
     "output_type": "execute_result"
    }
   ],
   "source": [
    "# 4. How many killings were there so far in 2015?\n",
    "\n",
    "import datetime\n",
    "\n",
    "start_2015 = datetime.date(year=2015,month=1,day=1)\n",
    "\n",
    "len(killings[killings.date > start_2015])"
   ]
  },
  {
   "cell_type": "code",
   "execution_count": null,
   "metadata": {
    "collapsed": true
   },
   "outputs": [],
   "source": []
  },
  {
   "cell_type": "code",
   "execution_count": 771,
   "metadata": {
    "collapsed": false
   },
   "outputs": [
    {
     "data": {
      "text/plain": [
       "Male      445\n",
       "Female     22\n",
       "Name: gender, dtype: int64"
      ]
     },
     "execution_count": 771,
     "metadata": {},
     "output_type": "execute_result"
    }
   ],
   "source": [
    "# 5. Of all killings, how many were male and how many female?\n",
    "\n",
    "killings.gender.value_counts()\n"
   ]
  },
  {
   "cell_type": "code",
   "execution_count": null,
   "metadata": {
    "collapsed": true
   },
   "outputs": [],
   "source": []
  },
  {
   "cell_type": "code",
   "execution_count": 772,
   "metadata": {
    "collapsed": false
   },
   "outputs": [
    {
     "name": "stdout",
     "output_type": "stream",
     "text": [
      "'No' in data: 102, with up to 35 more as possible Other/Unknown\n"
     ]
    }
   ],
   "source": [
    "# 6. How many killings were of unarmed people?\n",
    "killings.armed.value_counts()\n",
    "\n",
    "no_counts = len(killings[killings.armed == \"No\"])\n",
    "margin_others = len(killings[killings.armed.isin([\"Other\", \"Unknown\", \"Disputed\"])])\n",
    "\n",
    "print(\"'No' in data: {}, with up to {} more as possible Other/Unknown\".format(no_counts, margin_others))\n"
   ]
  },
  {
   "cell_type": "code",
   "execution_count": null,
   "metadata": {
    "collapsed": true
   },
   "outputs": [],
   "source": []
  },
  {
   "cell_type": "code",
   "execution_count": 774,
   "metadata": {
    "collapsed": false
   },
   "outputs": [
    {
     "name": "stdout",
     "output_type": "stream",
     "text": [
      "21.84% - 29.34% due to other,unknown,disputed\n"
     ]
    }
   ],
   "source": [
    "# 7. What percentage of all killings were unarmed?\n",
    "\n",
    "for_no = killings.armed.value_counts(normalize=True)[1] * 100\n",
    "for_unknown_disupted_other = sum([(killings.armed.value_counts(normalize=True)[x] * 100) for x in [6,7,3]])\n",
    "print(\"{:.2f}% - {:.2f}% due to other,unknown,disputed\".format(for_no, for_unknown_disupted_other+for_no))\n",
    "\n"
   ]
  },
  {
   "cell_type": "code",
   "execution_count": null,
   "metadata": {
    "collapsed": true
   },
   "outputs": [],
   "source": []
  },
  {
   "cell_type": "code",
   "execution_count": 775,
   "metadata": {
    "collapsed": false
   },
   "outputs": [
    {
     "data": {
      "text/plain": [
       "CA    74\n",
       "TX    46\n",
       "FL    29\n",
       "AZ    25\n",
       "OK    22\n",
       "Name: state, dtype: int64"
      ]
     },
     "execution_count": 775,
     "metadata": {},
     "output_type": "execute_result"
    }
   ],
   "source": [
    "# 8. What are the 5 states with the most killings?\n",
    "\n",
    "killings.state.value_counts()[:5]"
   ]
  },
  {
   "cell_type": "code",
   "execution_count": null,
   "metadata": {
    "collapsed": true
   },
   "outputs": [],
   "source": []
  },
  {
   "cell_type": "code",
   "execution_count": 776,
   "metadata": {
    "collapsed": false
   },
   "outputs": [
    {
     "data": {
      "text/plain": [
       "White                     236\n",
       "Black                     135\n",
       "Hispanic/Latino            67\n",
       "Unknown                    15\n",
       "Asian/Pacific Islander     10\n",
       "Native American             4\n",
       "Name: race, dtype: int64"
      ]
     },
     "execution_count": 776,
     "metadata": {},
     "output_type": "execute_result"
    }
   ],
   "source": [
    "# 9. Show a value counts of deaths for each race\n",
    "\n",
    "killings.race.value_counts()"
   ]
  },
  {
   "cell_type": "code",
   "execution_count": null,
   "metadata": {
    "collapsed": true
   },
   "outputs": [],
   "source": []
  },
  {
   "cell_type": "code",
   "execution_count": 777,
   "metadata": {
    "collapsed": false,
    "scrolled": true
   },
   "outputs": [
    {
     "data": {
      "text/plain": [
       "<matplotlib.axes._subplots.AxesSubplot at 0x16fd0e210>"
      ]
     },
     "execution_count": 777,
     "metadata": {},
     "output_type": "execute_result"
    },
    {
     "data": {
      "image/png": "[encoded data removed]",
      "text/plain": [
       "<matplotlib.figure.Figure at 0x16fd0e390>"
      ]
     },
     "metadata": {},
     "output_type": "display_data"
    }
   ],
   "source": [
    "# 10. Display a histogram of ages of all killings\n",
    "\n",
    "killings.age.hist(bins=killings.age.nunique())"
   ]
  },
  {
   "cell_type": "code",
   "execution_count": null,
   "metadata": {
    "collapsed": true
   },
   "outputs": [],
   "source": []
  },
  {
   "cell_type": "code",
   "execution_count": 995,
   "metadata": {
    "collapsed": false
   },
   "outputs": [
    {
     "data": {
      "text/plain": [
       "array([[<matplotlib.axes._subplots.AxesSubplot object at 0x16e9f6d50>,\n",
       "        <matplotlib.axes._subplots.AxesSubplot object at 0x1701d0a10>],\n",
       "       [<matplotlib.axes._subplots.AxesSubplot object at 0x170229110>,\n",
       "        <matplotlib.axes._subplots.AxesSubplot object at 0x1702863d0>],\n",
       "       [<matplotlib.axes._subplots.AxesSubplot object at 0x170303650>,\n",
       "        <matplotlib.axes._subplots.AxesSubplot object at 0x1702b3e50>]], dtype=object)"
      ]
     },
     "execution_count": 995,
     "metadata": {},
     "output_type": "execute_result"
    },
    {
     "data": {
      "image/png": "[encoded data removed]",
      "text/plain": [
       "<matplotlib.figure.Figure at 0x16e99ad10>"
      ]
     },
     "metadata": {},
     "output_type": "display_data"
    }
   ],
   "source": [
    "# 11. Show 6 histograms of ages by race\n",
    "\n",
    "killings.age.hist(by=killings.race,sharex=True, sharey=True, bins=killings.age.nunique(), figsize=(10,10))"
   ]
  },
  {
   "cell_type": "code",
   "execution_count": null,
   "metadata": {
    "collapsed": true
   },
   "outputs": [],
   "source": []
  },
  {
   "cell_type": "code",
   "execution_count": 779,
   "metadata": {
    "collapsed": false
   },
   "outputs": [
    {
     "data": {
      "text/plain": [
       "race\n",
       "Asian/Pacific Islander    40.800000\n",
       "Black                     34.044444\n",
       "Hispanic/Latino           31.716418\n",
       "Native American           27.750000\n",
       "Unknown                   43.533333\n",
       "White                     40.466102\n",
       "Name: age, dtype: float64"
      ]
     },
     "execution_count": 779,
     "metadata": {},
     "output_type": "execute_result"
    }
   ],
   "source": [
    "# 12. What is the average age of death by race?\n",
    "\n",
    "killings.groupby('race').age.mean()\n"
   ]
  },
  {
   "cell_type": "code",
   "execution_count": null,
   "metadata": {
    "collapsed": false
   },
   "outputs": [],
   "source": []
  },
  {
   "cell_type": "code",
   "execution_count": 797,
   "metadata": {
    "collapsed": false
   },
   "outputs": [
    {
     "data": {
      "text/plain": [
       "<matplotlib.text.Text at 0x171837610>"
      ]
     },
     "execution_count": 797,
     "metadata": {},
     "output_type": "execute_result"
    },
    {
     "data": {
      "image/png": "[encoded data removed]",
      "text/plain": [
       "<matplotlib.figure.Figure at 0x1713bfd50>"
      ]
     },
     "metadata": {},
     "output_type": "display_data"
    }
   ],
   "source": [
    "# 13. Show a bar chart with counts of deaths every month\n",
    "\n",
    "months_names = [x.strftime(\"%B\") for x in killings.date]\n",
    "killings['month'] = months_names\n",
    "\n",
    "plot = killings.groupby(\"month\").size().plot(kind='bar', title='Killings by month')\n",
    "plot.set_xlabel(\"Months\")\n",
    "plot.set_ylabel(\"Killngs\")"
   ]
  },
  {
   "cell_type": "code",
   "execution_count": null,
   "metadata": {
    "collapsed": true
   },
   "outputs": [],
   "source": []
  },
  {
   "cell_type": "code",
   "execution_count": null,
   "metadata": {
    "collapsed": true
   },
   "outputs": [],
   "source": []
  },
  {
   "cell_type": "code",
   "execution_count": null,
   "metadata": {
    "collapsed": true
   },
   "outputs": [],
   "source": []
  },
  {
   "cell_type": "code",
   "execution_count": null,
   "metadata": {
    "collapsed": true
   },
   "outputs": [],
   "source": []
  },
  {
   "cell_type": "code",
   "execution_count": null,
   "metadata": {
    "collapsed": true
   },
   "outputs": [],
   "source": [
    "###################\n",
    "### Less Morbid ###\n",
    "###################"
   ]
  },
  {
   "cell_type": "code",
   "execution_count": 465,
   "metadata": {
    "collapsed": false
   },
   "outputs": [],
   "source": [
    "majors = pd.read_csv('data/college-majors.csv')\n",
    "\n",
    "majors.columns = [x.lower() for x in majors.columns]\n",
    "majors[:1]\n",
    "\n",
    "majors.rename(columns={'median':'medianx'}, inplace=True) #name conflict .notation"
   ]
  },
  {
   "cell_type": "code",
   "execution_count": null,
   "metadata": {
    "collapsed": true
   },
   "outputs": [],
   "source": []
  },
  {
   "cell_type": "code",
   "execution_count": 466,
   "metadata": {
    "collapsed": false
   },
   "outputs": [],
   "source": [
    "# 1. Delete the columns (employed_full_time_year_round, major_code)\n",
    "\n",
    "del majors['unnamed: 0']\n",
    "del majors['employed_full_time_year_round']\n",
    "del majors['major_code']\n"
   ]
  },
  {
   "cell_type": "code",
   "execution_count": null,
   "metadata": {
    "collapsed": false
   },
   "outputs": [],
   "source": []
  },
  {
   "cell_type": "code",
   "execution_count": 467,
   "metadata": {
    "collapsed": false
   },
   "outputs": [
    {
     "data": {
      "text/plain": [
       "major                0\n",
       "major_category       0\n",
       "total                0\n",
       "employed             0\n",
       "unemployed           0\n",
       "unemployment_rate    0\n",
       "medianx              0\n",
       "p25th                0\n",
       "p75th                0\n",
       "dtype: int64"
      ]
     },
     "execution_count": 467,
     "metadata": {},
     "output_type": "execute_result"
    }
   ],
   "source": [
    "# 2. Show the cout of missing values in each column\n",
    "\n",
    "majors.isnull().sum()"
   ]
  },
  {
   "cell_type": "code",
   "execution_count": null,
   "metadata": {
    "collapsed": true
   },
   "outputs": [],
   "source": []
  },
  {
   "cell_type": "code",
   "execution_count": 791,
   "metadata": {
    "collapsed": false
   },
   "outputs": [
    {
     "name": "stdout",
     "output_type": "stream",
     "text": [
      "7 majors shared in top 10 for each of median, p25 & p75: \n",
      "PHARMACY PHARMACEUTICAL SCIENCES AND ADMINISTRATION *** NAVAL ARCHITECTURE AND MARINE ENGINEERING *** METALLURGICAL ENGINEERING *** NUCLEAR ENGINEERING *** CHEMICAL ENGINEERING *** ELECTRICAL ENGINEERING *** PETROLEUM ENGINEERING\n",
      "\n",
      "other top 3 majors in p75: \n",
      "MATHEMATICS AND COMPUTER SCIENCE *** GEOLOGICAL AND GEOPHYSICAL ENGINEERING *** MINING AND MINERAL ENGINEERING\n"
     ]
    }
   ],
   "source": [
    "# 3. What are the top 10 highest paying majors?\n",
    "base = majors[['major', 'medianx', 'p25th', 'p75th']] \n",
    "metrics = []\n",
    "for metric in ['medianx', 'p25th', 'p75th']:    \n",
    "    metrics.append(base.sort_values(by=metric, ascending=False)[:10].major.values)\n",
    "\n",
    "md = set(metrics[0])\n",
    "p25 = set(metrics[1])\n",
    "p75 = set(metrics[2])\n",
    "\n",
    "#( md | p25 | p75)\n",
    "majors_in_all_cats = (md & p25 & p75)\n",
    "other3 = p75 - (md & p25 & p75)\n",
    "\n",
    "print(\"7 majors shared in top 10 for each of median, p25 & p75: \\n{}\\n\".format(\" *** \".join(majors_in_all_cats)))\n",
    "print(\"other top 3 majors in p75: \\n{}\".format(\" *** \".join(other3)))"
   ]
  },
  {
   "cell_type": "code",
   "execution_count": null,
   "metadata": {
    "collapsed": true
   },
   "outputs": [],
   "source": []
  },
  {
   "cell_type": "code",
   "execution_count": 569,
   "metadata": {
    "collapsed": false
   },
   "outputs": [
    {
     "data": {
      "text/plain": [
       "<matplotlib.text.Text at 0x13c63b850>"
      ]
     },
     "execution_count": 569,
     "metadata": {},
     "output_type": "execute_result"
    },
    {
     "data": {
      "image/png": "[encoded data removed]",
      "text/plain": [
       "<matplotlib.figure.Figure at 0x1397a1350>"
      ]
     },
     "metadata": {},
     "output_type": "display_data"
    }
   ],
   "source": [
    "# 4. Plot the data from the last question in a bar chart, include proper title, and labels!\n",
    "\n",
    "plot = majors[['major', 'medianx', 'p25th', 'p75th']].sort_values(by='medianx', ascending=False)[:10] \\\n",
    "  .plot(kind='bar', title=\"Median, p25th and p75th for Majors\", x='major', figsize=(10,6))\n",
    "plot.set_xlabel(\"Majors\")\n",
    "plot.set_ylabel(\"Money\")"
   ]
  },
  {
   "cell_type": "code",
   "execution_count": null,
   "metadata": {
    "collapsed": true
   },
   "outputs": [],
   "source": []
  },
  {
   "cell_type": "code",
   "execution_count": 604,
   "metadata": {
    "collapsed": false
   },
   "outputs": [
    {
     "data": {
      "text/plain": [
       "major_category\n",
       "Agriculture & Natural Resources        55000.000000\n",
       "Arts                                   43525.000000\n",
       "Biology & Life Science                 50821.428571\n",
       "Business                               60615.384615\n",
       "Communications & Journalism            49500.000000\n",
       "Computers & Mathematics                66272.727273\n",
       "Education                              43831.250000\n",
       "Engineering                            77758.620690\n",
       "Health                                 56458.333333\n",
       "Humanities & Liberal Arts              46080.000000\n",
       "Industrial Arts & Consumer Services    52642.857143\n",
       "Interdisciplinary                      43000.000000\n",
       "Law & Public Policy                    52800.000000\n",
       "Physical Sciences                      62400.000000\n",
       "Psychology & Social Work               44555.555556\n",
       "Social Science                         53222.222222\n",
       "Name: medianx, dtype: float64"
      ]
     },
     "execution_count": 604,
     "metadata": {},
     "output_type": "execute_result"
    }
   ],
   "source": [
    "# 5. What is the average median salary for each major category?\n",
    "\n",
    "majors.groupby(\"major_category\").medianx.mean()"
   ]
  },
  {
   "cell_type": "code",
   "execution_count": null,
   "metadata": {
    "collapsed": true
   },
   "outputs": [],
   "source": []
  },
  {
   "cell_type": "code",
   "execution_count": 609,
   "metadata": {
    "collapsed": false
   },
   "outputs": [
    {
     "data": {
      "text/plain": [
       "major_category\n",
       "Engineering                77758.620690\n",
       "Computers & Mathematics    66272.727273\n",
       "Physical Sciences          62400.000000\n",
       "Business                   60615.384615\n",
       "Health                     56458.333333\n",
       "Name: medianx, dtype: float64"
      ]
     },
     "execution_count": 609,
     "metadata": {},
     "output_type": "execute_result"
    }
   ],
   "source": [
    "# 6. Show only the top 5 paying major categories\n",
    "majors.groupby(\"major_category\").medianx.mean().sort_values(ascending=False)[:5]\n"
   ]
  },
  {
   "cell_type": "code",
   "execution_count": null,
   "metadata": {
    "collapsed": true
   },
   "outputs": [],
   "source": []
  },
  {
   "cell_type": "code",
   "execution_count": 651,
   "metadata": {
    "collapsed": false
   },
   "outputs": [
    {
     "data": {
      "text/plain": [
       "<matplotlib.axes._subplots.AxesSubplot at 0x14621ca90>"
      ]
     },
     "execution_count": 651,
     "metadata": {},
     "output_type": "execute_result"
    },
    {
     "data": {
      "image/png": "[encoded data removed]",
      "text/plain": [
       "<matplotlib.figure.Figure at 0x146264790>"
      ]
     },
     "metadata": {},
     "output_type": "display_data"
    }
   ],
   "source": [
    "# 7. Plot a histogram of the distribution of median salaries\n",
    "\n",
    "majors.medianx.hist(bins=30,figsize=(10,8))"
   ]
  },
  {
   "cell_type": "code",
   "execution_count": null,
   "metadata": {
    "collapsed": true
   },
   "outputs": [],
   "source": []
  },
  {
   "cell_type": "code",
   "execution_count": 792,
   "metadata": {
    "collapsed": false
   },
   "outputs": [
    {
     "data": {
      "text/plain": [
       "array([[<matplotlib.axes._subplots.AxesSubplot object at 0x16fd59610>,\n",
       "        <matplotlib.axes._subplots.AxesSubplot object at 0x16ff3a450>,\n",
       "        <matplotlib.axes._subplots.AxesSubplot object at 0x170421650>,\n",
       "        <matplotlib.axes._subplots.AxesSubplot object at 0x1704517d0>],\n",
       "       [<matplotlib.axes._subplots.AxesSubplot object at 0x170603950>,\n",
       "        <matplotlib.axes._subplots.AxesSubplot object at 0x170671290>,\n",
       "        <matplotlib.axes._subplots.AxesSubplot object at 0x1706f5410>,\n",
       "        <matplotlib.axes._subplots.AxesSubplot object at 0x17084bd50>],\n",
       "       [<matplotlib.axes._subplots.AxesSubplot object at 0x1708ccfd0>,\n",
       "        <matplotlib.axes._subplots.AxesSubplot object at 0x17088e390>,\n",
       "        <matplotlib.axes._subplots.AxesSubplot object at 0x1709bd990>,\n",
       "        <matplotlib.axes._subplots.AxesSubplot object at 0x170a41b10>],\n",
       "       [<matplotlib.axes._subplots.AxesSubplot object at 0x170aa4bd0>,\n",
       "        <matplotlib.axes._subplots.AxesSubplot object at 0x170b27e50>,\n",
       "        <matplotlib.axes._subplots.AxesSubplot object at 0x17082a690>,\n",
       "        <matplotlib.axes._subplots.AxesSubplot object at 0x16d05a590>]], dtype=object)"
      ]
     },
     "execution_count": 792,
     "metadata": {},
     "output_type": "execute_result"
    },
    {
     "data": {
      "image/png": "[encoded data removed]",
      "text/plain": [
       "<matplotlib.figure.Figure at 0x16fe28450>"
      ]
     },
     "metadata": {},
     "output_type": "display_data"
    }
   ],
   "source": [
    "# 8. Plot a histogram of the distribution of median salaries by major category\n",
    "\n",
    "majors.medianx.hist(by=majors.major_category, sharex=True, sharey=True, figsize=(10,12))\n"
   ]
  },
  {
   "cell_type": "code",
   "execution_count": null,
   "metadata": {
    "collapsed": true
   },
   "outputs": [],
   "source": []
  },
  {
   "cell_type": "code",
   "execution_count": 712,
   "metadata": {
    "collapsed": false
   },
   "outputs": [
    {
     "data": {
      "text/html": [
       "<div>\n",
       "<table border=\"1\" class=\"dataframe\">\n",
       "  <thead>\n",
       "    <tr style=\"text-align: right;\">\n",
       "      <th></th>\n",
       "      <th>major</th>\n",
       "      <th>unemployed</th>\n",
       "    </tr>\n",
       "  </thead>\n",
       "  <tbody>\n",
       "    <tr>\n",
       "      <th>161</th>\n",
       "      <td>BUSINESS MANAGEMENT AND ADMINISTRATION</td>\n",
       "      <td>147261</td>\n",
       "    </tr>\n",
       "    <tr>\n",
       "      <th>158</th>\n",
       "      <td>GENERAL BUSINESS</td>\n",
       "      <td>85626</td>\n",
       "    </tr>\n",
       "    <tr>\n",
       "      <th>114</th>\n",
       "      <td>PSYCHOLOGY</td>\n",
       "      <td>79066</td>\n",
       "    </tr>\n",
       "    <tr>\n",
       "      <th>159</th>\n",
       "      <td>ACCOUNTING</td>\n",
       "      <td>75379</td>\n",
       "    </tr>\n",
       "    <tr>\n",
       "      <th>13</th>\n",
       "      <td>COMMUNICATIONS</td>\n",
       "      <td>54390</td>\n",
       "    </tr>\n",
       "    <tr>\n",
       "      <th>73</th>\n",
       "      <td>ENGLISH LANGUAGE AND LITERATURE</td>\n",
       "      <td>52248</td>\n",
       "    </tr>\n",
       "    <tr>\n",
       "      <th>164</th>\n",
       "      <td>MARKETING AND MARKETING RESEARCH</td>\n",
       "      <td>51839</td>\n",
       "    </tr>\n",
       "    <tr>\n",
       "      <th>132</th>\n",
       "      <td>POLITICAL SCIENCE AND GOVERNMENT</td>\n",
       "      <td>40376</td>\n",
       "    </tr>\n",
       "    <tr>\n",
       "      <th>25</th>\n",
       "      <td>GENERAL EDUCATION</td>\n",
       "      <td>38742</td>\n",
       "    </tr>\n",
       "    <tr>\n",
       "      <th>78</th>\n",
       "      <td>BIOLOGY</td>\n",
       "      <td>36757</td>\n",
       "    </tr>\n",
       "  </tbody>\n",
       "</table>\n",
       "</div>"
      ],
      "text/plain": [
       "                                      major  unemployed\n",
       "161  BUSINESS MANAGEMENT AND ADMINISTRATION      147261\n",
       "158                        GENERAL BUSINESS       85626\n",
       "114                              PSYCHOLOGY       79066\n",
       "159                              ACCOUNTING       75379\n",
       "13                           COMMUNICATIONS       54390\n",
       "73          ENGLISH LANGUAGE AND LITERATURE       52248\n",
       "164        MARKETING AND MARKETING RESEARCH       51839\n",
       "132        POLITICAL SCIENCE AND GOVERNMENT       40376\n",
       "25                        GENERAL EDUCATION       38742\n",
       "78                                  BIOLOGY       36757"
      ]
     },
     "execution_count": 712,
     "metadata": {},
     "output_type": "execute_result"
    }
   ],
   "source": [
    "# 9. What are the top 10 most UNemployed majors?\n",
    "\n",
    "# NOTE\n",
    "# Could be misleaing since the unemployed figures dont reflect the total populations & the employed figures\n",
    "\n",
    "\n",
    "#majors.sort_values(by='unemployment_rate', ascending=False)[['major', 'unemployment_rate']][:10]\n",
    "majors.sort_values(by='unemployed', ascending=False)[['major', 'unemployed']][:10]\n"
   ]
  },
  {
   "cell_type": "code",
   "execution_count": null,
   "metadata": {
    "collapsed": true
   },
   "outputs": [],
   "source": []
  },
  {
   "cell_type": "code",
   "execution_count": 715,
   "metadata": {
    "collapsed": false
   },
   "outputs": [
    {
     "data": {
      "text/html": [
       "<div>\n",
       "<table border=\"1\" class=\"dataframe\">\n",
       "  <thead>\n",
       "    <tr style=\"text-align: right;\">\n",
       "      <th></th>\n",
       "      <th>major</th>\n",
       "      <th>unemployed</th>\n",
       "      <th>unemployment_rate</th>\n",
       "    </tr>\n",
       "  </thead>\n",
       "  <tbody>\n",
       "    <tr>\n",
       "      <th>161</th>\n",
       "      <td>BUSINESS MANAGEMENT AND ADMINISTRATION</td>\n",
       "      <td>147261</td>\n",
       "      <td>0.058865</td>\n",
       "    </tr>\n",
       "    <tr>\n",
       "      <th>158</th>\n",
       "      <td>GENERAL BUSINESS</td>\n",
       "      <td>85626</td>\n",
       "      <td>0.051378</td>\n",
       "    </tr>\n",
       "    <tr>\n",
       "      <th>114</th>\n",
       "      <td>PSYCHOLOGY</td>\n",
       "      <td>79066</td>\n",
       "      <td>0.069667</td>\n",
       "    </tr>\n",
       "    <tr>\n",
       "      <th>159</th>\n",
       "      <td>ACCOUNTING</td>\n",
       "      <td>75379</td>\n",
       "      <td>0.053415</td>\n",
       "    </tr>\n",
       "    <tr>\n",
       "      <th>13</th>\n",
       "      <td>COMMUNICATIONS</td>\n",
       "      <td>54390</td>\n",
       "      <td>0.064360</td>\n",
       "    </tr>\n",
       "    <tr>\n",
       "      <th>73</th>\n",
       "      <td>ENGLISH LANGUAGE AND LITERATURE</td>\n",
       "      <td>52248</td>\n",
       "      <td>0.068645</td>\n",
       "    </tr>\n",
       "    <tr>\n",
       "      <th>164</th>\n",
       "      <td>MARKETING AND MARKETING RESEARCH</td>\n",
       "      <td>51839</td>\n",
       "      <td>0.055033</td>\n",
       "    </tr>\n",
       "    <tr>\n",
       "      <th>132</th>\n",
       "      <td>POLITICAL SCIENCE AND GOVERNMENT</td>\n",
       "      <td>40376</td>\n",
       "      <td>0.069374</td>\n",
       "    </tr>\n",
       "    <tr>\n",
       "      <th>25</th>\n",
       "      <td>GENERAL EDUCATION</td>\n",
       "      <td>38742</td>\n",
       "      <td>0.043904</td>\n",
       "    </tr>\n",
       "    <tr>\n",
       "      <th>78</th>\n",
       "      <td>BIOLOGY</td>\n",
       "      <td>36757</td>\n",
       "      <td>0.059301</td>\n",
       "    </tr>\n",
       "  </tbody>\n",
       "</table>\n",
       "</div>"
      ],
      "text/plain": [
       "                                      major  unemployed  unemployment_rate\n",
       "161  BUSINESS MANAGEMENT AND ADMINISTRATION      147261           0.058865\n",
       "158                        GENERAL BUSINESS       85626           0.051378\n",
       "114                              PSYCHOLOGY       79066           0.069667\n",
       "159                              ACCOUNTING       75379           0.053415\n",
       "13                           COMMUNICATIONS       54390           0.064360\n",
       "73          ENGLISH LANGUAGE AND LITERATURE       52248           0.068645\n",
       "164        MARKETING AND MARKETING RESEARCH       51839           0.055033\n",
       "132        POLITICAL SCIENCE AND GOVERNMENT       40376           0.069374\n",
       "25                        GENERAL EDUCATION       38742           0.043904\n",
       "78                                  BIOLOGY       36757           0.059301"
      ]
     },
     "execution_count": 715,
     "metadata": {},
     "output_type": "execute_result"
    }
   ],
   "source": [
    "# What are the unemployment rates?\n",
    "\n",
    "majors.sort_values(by='unemployed', ascending=False)[['major', 'unemployed', 'unemployment_rate']][:10]\n"
   ]
  },
  {
   "cell_type": "code",
   "execution_count": null,
   "metadata": {
    "collapsed": true
   },
   "outputs": [],
   "source": []
  },
  {
   "cell_type": "code",
   "execution_count": 748,
   "metadata": {
    "collapsed": false
   },
   "outputs": [
    {
     "data": {
      "text/plain": [
       "major_category\n",
       "Business                       33415.153846\n",
       "Communications & Journalism    25299.750000\n",
       "Social Science                 14683.333333\n",
       "Arts                           13015.625000\n",
       "Humanities & Liberal Arts      11942.400000\n",
       "Psychology & Social Work       11578.444444\n",
       "Law & Public Policy             8609.800000\n",
       "Education                       7833.500000\n",
       "Computers & Mathematics         7270.363636\n",
       "Health                          6251.083333\n",
       "Name: unemployed, dtype: float64"
      ]
     },
     "execution_count": 748,
     "metadata": {},
     "output_type": "execute_result"
    }
   ],
   "source": [
    "# 10. What are the top 10 most UNemployed majors CATEGORIES? Use the mean for each category\n",
    "# What are the unemployment rates?\n",
    "\n",
    "majors.groupby(\"major_category\").unemployed.mean().sort_values(ascending=False)[:10]\n"
   ]
  },
  {
   "cell_type": "code",
   "execution_count": null,
   "metadata": {
    "collapsed": true
   },
   "outputs": [],
   "source": []
  },
  {
   "cell_type": "code",
   "execution_count": 759,
   "metadata": {
    "collapsed": false
   },
   "outputs": [
    {
     "data": {
      "text/html": [
       "<div>\n",
       "<table border=\"1\" class=\"dataframe\">\n",
       "  <thead>\n",
       "    <tr style=\"text-align: right;\">\n",
       "      <th></th>\n",
       "      <th>major</th>\n",
       "      <th>major_category</th>\n",
       "      <th>total</th>\n",
       "      <th>employed</th>\n",
       "      <th>unemployed</th>\n",
       "      <th>unemployment_rate</th>\n",
       "      <th>medianx</th>\n",
       "      <th>p25th</th>\n",
       "      <th>p75th</th>\n",
       "      <th>sample_employment_rate</th>\n",
       "    </tr>\n",
       "  </thead>\n",
       "  <tbody>\n",
       "    <tr>\n",
       "      <th>0</th>\n",
       "      <td>GENERAL AGRICULTURE</td>\n",
       "      <td>Agriculture &amp; Natural Resources</td>\n",
       "      <td>128148</td>\n",
       "      <td>90245</td>\n",
       "      <td>2423</td>\n",
       "      <td>0.026147</td>\n",
       "      <td>50000</td>\n",
       "      <td>34000</td>\n",
       "      <td>80000.0</td>\n",
       "      <td>0.704225</td>\n",
       "    </tr>\n",
       "  </tbody>\n",
       "</table>\n",
       "</div>"
      ],
      "text/plain": [
       "                 major                   major_category   total  employed  \\\n",
       "0  GENERAL AGRICULTURE  Agriculture & Natural Resources  128148     90245   \n",
       "\n",
       "   unemployed  unemployment_rate  medianx  p25th    p75th  \\\n",
       "0        2423           0.026147    50000  34000  80000.0   \n",
       "\n",
       "   sample_employment_rate  \n",
       "0                0.704225  "
      ]
     },
     "execution_count": 759,
     "metadata": {},
     "output_type": "execute_result"
    }
   ],
   "source": [
    "# 11. the total and employed column refer to the people that were surveyed.\n",
    "# Create a new column showing the emlpoyment rate of the people surveyed for each major\n",
    "# call it \"sample_employment_rate\"\n",
    "# Example the first row has total: 128148 and employed: 90245. it's \n",
    "# sample_employment_rate should be 90245.0 / 128148.0 = .7042\n",
    "\n",
    "\n",
    "majors.total.dtype == np.int64\n",
    "majors.employed.dtype == np.int64\n",
    "majors['sample_employment_rate'] = majors.employed / majors.total\n",
    "majors[:1]"
   ]
  },
  {
   "cell_type": "code",
   "execution_count": null,
   "metadata": {
    "collapsed": true
   },
   "outputs": [],
   "source": []
  },
  {
   "cell_type": "code",
   "execution_count": 761,
   "metadata": {
    "collapsed": false
   },
   "outputs": [
    {
     "data": {
      "text/html": [
       "<div>\n",
       "<table border=\"1\" class=\"dataframe\">\n",
       "  <thead>\n",
       "    <tr style=\"text-align: right;\">\n",
       "      <th></th>\n",
       "      <th>major</th>\n",
       "      <th>major_category</th>\n",
       "      <th>total</th>\n",
       "      <th>employed</th>\n",
       "      <th>unemployed</th>\n",
       "      <th>unemployment_rate</th>\n",
       "      <th>medianx</th>\n",
       "      <th>p25th</th>\n",
       "      <th>p75th</th>\n",
       "      <th>sample_employment_rate</th>\n",
       "      <th>sample_unemployment_rate</th>\n",
       "    </tr>\n",
       "  </thead>\n",
       "  <tbody>\n",
       "    <tr>\n",
       "      <th>0</th>\n",
       "      <td>GENERAL AGRICULTURE</td>\n",
       "      <td>Agriculture &amp; Natural Resources</td>\n",
       "      <td>128148</td>\n",
       "      <td>90245</td>\n",
       "      <td>2423</td>\n",
       "      <td>0.026147</td>\n",
       "      <td>50000</td>\n",
       "      <td>34000</td>\n",
       "      <td>80000.0</td>\n",
       "      <td>0.704225</td>\n",
       "      <td>0.295775</td>\n",
       "    </tr>\n",
       "  </tbody>\n",
       "</table>\n",
       "</div>"
      ],
      "text/plain": [
       "                 major                   major_category   total  employed  \\\n",
       "0  GENERAL AGRICULTURE  Agriculture & Natural Resources  128148     90245   \n",
       "\n",
       "   unemployed  unemployment_rate  medianx  p25th    p75th  \\\n",
       "0        2423           0.026147    50000  34000  80000.0   \n",
       "\n",
       "   sample_employment_rate  sample_unemployment_rate  \n",
       "0                0.704225                  0.295775  "
      ]
     },
     "execution_count": 761,
     "metadata": {},
     "output_type": "execute_result"
    }
   ],
   "source": [
    "# 12. Create a \"sample_unemployment_rate\" column\n",
    "# this column should be 1 - \"sample_employment_rate\"\n",
    "\n",
    "majors['sample_unemployment_rate'] = 1 - majors['sample_employment_rate']\n",
    "majors[:1]"
   ]
  },
  {
   "cell_type": "code",
   "execution_count": null,
   "metadata": {
    "collapsed": true
   },
   "outputs": [],
   "source": []
  }
 ],
 "metadata": {
  "anaconda-cloud": {},
  "kernelspec": {
   "display_name": "Python [Root]",
   "language": "python",
   "name": "Python [Root]"
  },
  "language_info": {
   "codemirror_mode": {
    "name": "ipython",
    "version": 2
   },
   "file_extension": ".py",
   "mimetype": "text/x-python",
   "name": "python",
   "nbconvert_exporter": "python",
   "pygments_lexer": "ipython2",
   "version": "2.7.12"
  }
 },
 "nbformat": 4,
 "nbformat_minor": 0
}
